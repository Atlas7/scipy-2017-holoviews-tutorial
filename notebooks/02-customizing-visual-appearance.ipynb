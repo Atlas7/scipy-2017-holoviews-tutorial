{
 "cells": [
  {
   "cell_type": "markdown",
   "metadata": {},
   "source": [
    "<a href='http://www.holoviews.org'><img src=\"assets/header_logo.png\" alt=\"HoloViews logo\" width=\"20%;\" align=\"left\"/></a>\n",
    "<div style=\"float:right;\"><h2>02. Customizing Visual Appearance</h2></div>"
   ]
  },
  {
   "cell_type": "markdown",
   "metadata": {},
   "source": [
    "## Preliminaries"
   ]
  },
  {
   "cell_type": "markdown",
   "metadata": {},
   "source": [
    "In the [introduction to elements](./01-introduction-to-elements), ``hv.extension('bokeh')`` was used at the start to load and activate the bokeh plotting extension. In this notebook, we will briefly use [matplotlib](www.matplotlib.org) which we will load, but not activate, by listing it second:"
   ]
  },
  {
   "cell_type": "code",
   "execution_count": null,
   "metadata": {},
   "outputs": [],
   "source": [
    "import pandas as pd\n",
    "import holoviews as hv\n",
    "hv.extension('bokeh', 'matplotlib')"
   ]
  },
  {
   "cell_type": "code",
   "execution_count": null,
   "metadata": {
    "collapsed": true
   },
   "outputs": [],
   "source": [
    "from holoviews.plotting.bokeh import SpikesPlot\n",
    "SpikesPlot.color_index=None"
   ]
  },
  {
   "cell_type": "markdown",
   "metadata": {},
   "source": [
    "## Visualizing eclipse data"
   ]
  },
  {
   "cell_type": "markdown",
   "metadata": {},
   "source": [
    "Let us find some interesting data to generate elements from before we consider how to customize them. Here is a dataset containing information about all the [eclipses of the 21st century](https://en.wikipedia.org/wiki/List_of_solar_eclipses_in_the_21st_century):"
   ]
  },
  {
   "cell_type": "code",
   "execution_count": null,
   "metadata": {},
   "outputs": [],
   "source": [
    "eclipses = pd.read_csv('../data/eclipses_21C.csv', parse_dates=['date'])\n",
    "eclipses.head()"
   ]
  },
  {
   "cell_type": "markdown",
   "metadata": {},
   "source": [
    "Here we have the date of each eclipse, when it occurs in the day (local time), when it occurs in UTC, the type of eclipse, its magnitude (fraction of the Sun's diameter obscured by the Moon) and it's position in latitude and longitude.\n",
    "\n",
    "Let's see what happens if we pass this dataframe to the [``Curve``](http://build.holoviews.org/reference/elements/bokeh/Curve.html) element:"
   ]
  },
  {
   "cell_type": "code",
   "execution_count": null,
   "metadata": {},
   "outputs": [],
   "source": [
    "hv.Curve(eclipses)"
   ]
  },
  {
   "cell_type": "markdown",
   "metadata": {},
   "source": [
    "We see that, by default, the first column of the date becomes the *key dimension* (corresponding to the x-axis) and the second column becomes the *value dimension* (corresponding to the y-axis). There is clearly structure in this data but the color isn't very appealing and the structure is too highly compressed in the x-direction. We can start customizing the appearance of this curve using the HoloViews [options system](http://holoviews.org/user_guide/Customizing_Plots.html)."
   ]
  },
  {
   "cell_type": "markdown",
   "metadata": {},
   "source": [
    "## Types of option\n",
    "\n",
    "HoloViews keeps your data (held in the elements) separate from information about how they should look. \n",
    "\n",
    "\n",
    "* **plot options**: Options that specify how to *construct* the plot to *HoloViews*.\n",
    "* **style options**: Options that specify how to *style* the visualization to the *plotting extension*\n",
    "* **normalization options**: Options controlling how the visualization is normalized (not covered in this tutorial)\n"
   ]
  },
  {
   "cell_type": "markdown",
   "metadata": {},
   "source": [
    "### Plot options"
   ]
  },
  {
   "cell_type": "markdown",
   "metadata": {},
   "source": [
    "We noted that the data is too compressed in the x-direction. Let us fix that by specifying the ``width`` plot option:"
   ]
  },
  {
   "cell_type": "code",
   "execution_count": null,
   "metadata": {},
   "outputs": [],
   "source": [
    "%%opts Curve [width=900]\n",
    "hour_curve = hv.Curve(eclipses).redim.label(hour_local='Hour (local time)', date='Date (21st century)')\n",
    "hour_curve"
   ]
  },
  {
   "cell_type": "markdown",
   "metadata": {},
   "source": [
    "The top line uses the ``%%opts`` *cell magic* to specify the ``width`` plot option to the [``Curve``](http://build.holoviews.org/reference/elements/bokeh/Curve.html). The ``%%opts`` cell magic accepts a simple specification where we pass the ``width=900`` keyword argument to  [``Curve``](http://build.holoviews.org/reference/elements/bokeh/Curve.html) as a plot option (denoted by the *square brackets*).\n",
    "\n",
    "There are many ways of applying options in HoloViews that include ways that don't rely on IPython-specific syntax or the option specification syntax accepted by the magic above. In this tutorial, we will only be covering the various magics but you can read about the alternate approaches in the [options system](http://holoviews.org/user_guide/Customizing_Plots.html) user guide."
   ]
  },
  {
   "cell_type": "code",
   "execution_count": null,
   "metadata": {
    "collapsed": true
   },
   "outputs": [],
   "source": [
    "# Exercise: Try setting the height plot option of the Curve above.\n",
    "# Hint: the magic supports tab-completion when the cursor is in the square brackets!"
   ]
  },
  {
   "cell_type": "code",
   "execution_count": null,
   "metadata": {
    "collapsed": true
   },
   "outputs": [],
   "source": [
    "# Exercise: Try enabling the boolean show_grid plot option for the curve above"
   ]
  },
  {
   "cell_type": "code",
   "execution_count": null,
   "metadata": {
    "collapsed": true
   },
   "outputs": [],
   "source": [
    "# Exercise: Try set the x-axis label rotation (in degrees) with the xrotation plot option"
   ]
  },
  {
   "cell_type": "markdown",
   "metadata": {},
   "source": [
    "#### Aside: ``hv.help``\n",
    "\n",
    "Tab-completion helps discover what keywords are available but you can get more complete help using the ``hv.help`` utility. For instance, to learn more about the options for ``hv.Curve`` run:\n",
    "\n",
    "```\n",
    "hv.help(hv.Curve)\n",
    "```"
   ]
  },
  {
   "cell_type": "markdown",
   "metadata": {},
   "source": [
    "### Style options\n",
    "\n",
    "The plot options earlier instructed HoloViews to build a plot 900 pixels wide as rendered with the Bokeh plotting extension. Now let's specify that the Bokeh glyph should be 'red' to Bokeh via HoloViews:"
   ]
  },
  {
   "cell_type": "code",
   "execution_count": null,
   "metadata": {},
   "outputs": [],
   "source": [
    "%%opts Curve (color='red' line_width=2)\n",
    "hour_curve"
   ]
  },
  {
   "cell_type": "markdown",
   "metadata": {},
   "source": [
    "Note how the plot options applied above to ``hour_curve`` are remembered! The ``%%opts`` magic is used to customize the *object* displayed as output for a particular code cell: behind the scenes HoloViews has linked the specified options to the ``hour_curve`` object via a hidden integer id attribute.\n",
    "\n",
    "Having used the ``%%opts`` magic on ``hour_curve`` again, we have now associated the 'red' ``color`` *style option* to it. In the options specification syntax, style options are the keywords in *parentheses* and are keywords defined and used by Bokeh to style [line glyphs](http://bokeh.pydata.org/en/latest/docs/user_guide/plotting.html#line-glyphs).\n",
    "\n"
   ]
  },
  {
   "cell_type": "code",
   "execution_count": null,
   "metadata": {
    "collapsed": true
   },
   "outputs": [],
   "source": [
    "# Exercise: Display hour_curve without any new options to verify it stays red"
   ]
  },
  {
   "cell_type": "code",
   "execution_count": null,
   "metadata": {
    "collapsed": true
   },
   "outputs": [],
   "source": [
    "# Exercise: Try setting the line_width style options to 1"
   ]
  },
  {
   "cell_type": "code",
   "execution_count": null,
   "metadata": {
    "collapsed": true
   },
   "outputs": [],
   "source": [
    "# Exercise: Try setting the  line_dash style option to 'dotdash'"
   ]
  },
  {
   "cell_type": "markdown",
   "metadata": {},
   "source": [
    "## Switching to matplotlib"
   ]
  },
  {
   "cell_type": "markdown",
   "metadata": {},
   "source": [
    "Let us now view our curve with matplotlib using the ``%%output`` cell magic:"
   ]
  },
  {
   "cell_type": "code",
   "execution_count": null,
   "metadata": {},
   "outputs": [],
   "source": [
    "%%output backend='matplotlib'\n",
    "hour_curve"
   ]
  },
  {
   "cell_type": "markdown",
   "metadata": {},
   "source": [
    "All our options are gone! This is because the options are associated with the corresponding plotting extension - if you switch back to 'bokeh', the options will be applicable again. One reason for this behavior is that the ``line_width`` style option accepted by Bokeh is called ``linewidth`` in matplotlib:"
   ]
  },
  {
   "cell_type": "code",
   "execution_count": null,
   "metadata": {},
   "outputs": [],
   "source": [
    "%%output backend='matplotlib'\n",
    "%%opts Curve [aspect=4 fig_size=400 xrotation=90] (color='red')\n",
    "hour_curve"
   ]
  },
  {
   "cell_type": "code",
   "execution_count": null,
   "metadata": {},
   "outputs": [],
   "source": [
    "%%output backend='bokeh'\n",
    "hour_curve"
   ]
  }
 ],
 "metadata": {
  "kernelspec": {
   "display_name": "Python 3",
   "language": "python",
   "name": "python3"
  },
  "language_info": {
   "codemirror_mode": {
    "name": "ipython",
    "version": 3
   },
   "file_extension": ".py",
   "mimetype": "text/x-python",
   "name": "python",
   "nbconvert_exporter": "python",
   "pygments_lexer": "ipython3",
   "version": "3.6.1"
  }
 },
 "nbformat": 4,
 "nbformat_minor": 2
}
