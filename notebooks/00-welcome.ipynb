{
 "cells": [
  {
   "cell_type": "markdown",
   "metadata": {},
   "source": [
    "<a href='http://www.holoviews.org'><img src=\"assets/header_logo.png\" alt=\"HoloViews logo\" width=\"20%;\" align=\"left\"/></a>\n",
    "<div style=\"float:right;\"><h2>00. Introduction and Setup</h2></div>\n",
    "\n"
   ]
  },
  {
   "cell_type": "markdown",
   "metadata": {},
   "source": [
    "\n",
    "Welcome to the HoloViews SciPy 2017 tutorial!\n",
    "\n",
    "This notebook serves as the homepage of the tutorial, including a general overview, instructions to check that everything is installed properly as well as a table of contents pointing to the tutorial sections.\n",
    "\n"
   ]
  },
  {
   "cell_type": "markdown",
   "metadata": {},
   "source": [
    "## What is HoloViews?\n",
    "\n",
    "HoloViews is an [open-source](https://github.com/ioam/holoviews) Python library designed to make data analysis and visualization seamless and simple. With HoloViews, you can usually express what you want to do in very few lines of code, letting you focus on what you are trying to explore and convey, not on the process of plotting. This tutorial will introduce HoloViews and guide you through the process of building rich, deployable visualizations with HoloViews and [Bokeh](bokeh.pydata.org) with exercises you are encouraged to try yourself. "
   ]
  },
  {
   "cell_type": "markdown",
   "metadata": {},
   "source": [
    "## Tutorial Overview"
   ]
  },
  {
   "cell_type": "markdown",
   "metadata": {},
   "source": [
    "# Tutorial Sections\n",
    "\n",
    "This tutorial is broken down into the following sections:\n",
    "\n",
    "* [Introduction](#Introduction)"
   ]
  },
  {
   "cell_type": "markdown",
   "metadata": {},
   "source": [
    "## Getting set up\n"
   ]
  },
  {
   "cell_type": "markdown",
   "metadata": {},
   "source": [
    "Please consult the tutorial repository [README](https://github.com/ioam/scipy-2017-holoviews-tutorial/blob/master/README.rst) for instructions on setting up your environment. Here is the condensed version of these instructions for unix systems (i.e Linux or OSX):\n",
    "\n",
    "```bash\n",
    "$ conda env create -f environment.yml\n",
    "$ source activate hvtutorial\n",
    "$ cd notebooks\n",
    "$ jupyter notebook --NotebookApp.iopub_data_rate_limit=100000000\n",
    "\n",
    "```\n",
    "\n",
    "If you have any problems with running these instructions, you can conveniently view the full instructions within this notebook by running the following cell:"
   ]
  },
  {
   "cell_type": "code",
   "execution_count": null,
   "metadata": {
    "collapsed": true
   },
   "outputs": [],
   "source": [
    "from IPython.core import page\n",
    "\n",
    "with open('../README.rst', 'r') as f:\n",
    "    page.page(f.read())"
   ]
  },
  {
   "cell_type": "markdown",
   "metadata": {},
   "source": [
    "Once the environment is set up, the following cell should print '1.8.0':"
   ]
  },
  {
   "cell_type": "code",
   "execution_count": null,
   "metadata": {},
   "outputs": [],
   "source": [
    "import holoviews as hv\n",
    "hv.__version__"
   ]
  }
 ],
 "metadata": {
  "kernelspec": {
   "display_name": "Python 3",
   "language": "python",
   "name": "python3"
  },
  "language_info": {
   "codemirror_mode": {
    "name": "ipython",
    "version": 3
   },
   "file_extension": ".py",
   "mimetype": "text/x-python",
   "name": "python",
   "nbconvert_exporter": "python",
   "pygments_lexer": "ipython3",
   "version": "3.6.1"
  }
 },
 "nbformat": 4,
 "nbformat_minor": 2
}
