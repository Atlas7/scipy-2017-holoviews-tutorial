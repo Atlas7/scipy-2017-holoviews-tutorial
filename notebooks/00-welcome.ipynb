{
 "cells": [
  {
   "cell_type": "markdown",
   "metadata": {},
   "source": [
    "<a href='http://www.holoviews.org'><img src=\"assets/header_logo.png\" alt=\"HoloViews logo\" width=\"20%;\" align=\"left\"/></a>\n",
    "<div style=\"float:right;\"><h2>00. Introduction and Setup</h2></div>"
   ]
  },
  {
   "cell_type": "markdown",
   "metadata": {},
   "source": [
    "\n",
    "Welcome to the HoloViews SciPy 2017 tutorial!\n",
    "\n",
    "This notebook serves as the homepage of the tutorial, including a general overview, instructions to check that everything is installed properly as well as a table of contents pointing to the tutorial sections.\n",
    "\n",
    "\n",
    "## What is HoloViews?\n",
    "\n",
    "HoloViews is an [open-source](https://github.com/ioam/holoviews) Python library designed to make data analysis and visualization seamless and simple. With HoloViews, you can usually express what you want to do in very few lines of code, letting you focus on what you are trying to explore and convey, not on the process of plotting.\n",
    "\n",
    "**HoloViews helps you understand your data better, by letting you work seamlessly with both the data** ***and*** **its graphical representation.**\n",
    "\n",
    "When working with HoloViews, the focus is on bundling your data together with the appropriate metadata to support both analysis and visualization, making your raw data and its visualization equally accessible at all times.  This tutorial will introduce HoloViews and guide you through the process of building rich, deployable visualizations with HoloViews and [Bokeh](bokeh.pydata.org) with exercises you are encouraged to try yourself.\n",
    "\n",
    "\n",
    "The following GIF illustrates the type of visual application we will be working towards in this tutorial:\n"
   ]
  },
  {
   "cell_type": "markdown",
   "metadata": {},
   "source": [
    "## Tutorial Overview\n",
    "\n",
    "You will find a lot of related support material on our website [holoviews.org](http://www.holoviews.org). For convience here are some links you might find useful during the tutorial:\n",
    "\n",
    "* [Reference gallery](http://holoviews.org/reference/index.html): Visual reference of all elements, all containers, a few bokeh app examples and a number of stream classes.\n",
    "* [Getting started guide](http://holoviews.org/getting_started/index.html): Covers a lot of related material in a non-tutorial format.\n",
    "\n",
    "# Tutorial Sections\n",
    "\n",
    "This tutorial is broken down into the following sections:\n",
    "\n",
    "* [Introduction](./01-introduction.ipynb): Get started by creating a variety of different elements.\n",
    "\n",
    "\n",
    "## Getting set up\n",
    "\n",
    "Please consult the tutorial repository [README](https://github.com/ioam/scipy-2017-holoviews-tutorial/blob/master/README.rst) for instructions on setting up your environment. Here is the condensed version of these instructions for unix systems (i.e Linux or OSX):\n",
    "\n",
    "```bash\n",
    "$ conda env create -f environment.yml\n",
    "$ source activate hvtutorial\n",
    "$ cd notebooks\n",
    "$ jupyter notebook --NotebookApp.iopub_data_rate_limit=100000000\n",
    "\n",
    "```\n",
    "\n",
    "If you have any problems with running these instructions, you can conveniently view the full instructions within this notebook by running the following cell:"
   ]
  },
  {
   "cell_type": "code",
   "execution_count": null,
   "metadata": {
    "collapsed": true
   },
   "outputs": [],
   "source": [
    "from IPython.core import page\n",
    "with open('../README.rst', 'r') as f:\n",
    "    page.page(f.read())"
   ]
  },
  {
   "cell_type": "markdown",
   "metadata": {},
   "source": [
    "Once the environment is set up, the following cell should print '1.8.0':"
   ]
  },
  {
   "cell_type": "code",
   "execution_count": null,
   "metadata": {},
   "outputs": [],
   "source": [
    "import holoviews as hv\n",
    "hv.__version__"
   ]
  },
  {
   "cell_type": "markdown",
   "metadata": {},
   "source": [
    "And you should see the HoloViews logo after running the following cell:"
   ]
  },
  {
   "cell_type": "code",
   "execution_count": null,
   "metadata": {},
   "outputs": [],
   "source": [
    "hv.extension('bokeh', 'matplotlib')"
   ]
  },
  {
   "cell_type": "markdown",
   "metadata": {},
   "source": [
    "## Recommended configuration"
   ]
  },
  {
   "cell_type": "markdown",
   "metadata": {},
   "source": [
    "The following configuration options are recommended additions to your '~/.holoviews.rc' file as they improve the tutorial experience and will be the default behaviour in future:"
   ]
  },
  {
   "cell_type": "code",
   "execution_count": null,
   "metadata": {},
   "outputs": [],
   "source": [
    "lines = ['import holoviews as hv', 'hv.extension.case_sensitive_completion=True',\n",
    "         \"hv.Dataset.datatype = ['dataframe']+hv.Dataset.datatype\"]\n",
    "print('\\n'.join(lines))"
   ]
  },
  {
   "cell_type": "markdown",
   "metadata": {},
   "source": [
    "If you do not have a holoviews.rc already, simply run the following cell to generate it:"
   ]
  },
  {
   "cell_type": "code",
   "execution_count": null,
   "metadata": {},
   "outputs": [],
   "source": [
    "import os\n",
    "with open(os.path.join(os.path.expanduser('~'), '.holoviews.rc'), 'w') as f:\n",
    "    f.write('\\n'.join(lines))"
   ]
  }
 ],
 "metadata": {
  "kernelspec": {
   "display_name": "Python 3",
   "language": "python",
   "name": "python3"
  },
  "language_info": {
   "codemirror_mode": {
    "name": "ipython",
    "version": 3
   },
   "file_extension": ".py",
   "mimetype": "text/x-python",
   "name": "python",
   "nbconvert_exporter": "python",
   "pygments_lexer": "ipython3",
   "version": "3.6.1"
  }
 },
 "nbformat": 4,
 "nbformat_minor": 2
}
