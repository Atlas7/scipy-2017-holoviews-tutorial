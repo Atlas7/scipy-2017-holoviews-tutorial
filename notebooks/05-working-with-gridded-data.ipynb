{
 "cells": [
  {
   "cell_type": "markdown",
   "metadata": {},
   "source": [
    "<a href='bokeh.pydata.org'><img src=\"assets/bokeh_logo.svg\" alt=\"Bokeh logo\" width=\"4%;\" align=\"right\"/></a>"
   ]
  },
  {
   "cell_type": "markdown",
   "metadata": {},
   "source": [
    "<a href='http://www.holoviews.org'><img src=\"assets/header_logo.png\" alt=\"HoloViews logo\" width=\"20%;\" align=\"left\"/></a>\n",
    "<div style=\"float:right;\"><h2>05. Working with Gridded Datasets</h2></div>"
   ]
  },
  {
   "cell_type": "code",
   "execution_count": null,
   "metadata": {},
   "outputs": [],
   "source": [
    "import numpy as np\n",
    "import pandas as pd\n",
    "import holoviews as hv\n",
    "hv.extension('bokeh', 'matplotlib')"
   ]
  },
  {
   "cell_type": "markdown",
   "metadata": {},
   "source": [
    "## What is gridded data?"
   ]
  },
  {
   "cell_type": "markdown",
   "metadata": {},
   "source": [
    "Many datasets in science and engineering consist of n-dimensional datasets. Gridded datasets usually represent observations of some continuous variable across multiple dimensions---a monochrome image representing luminance values across a 2D surface, volumetric 3D data, an RGB image sequence over time, or any other multi-dimensional parameter space. This type of data is particularly common in research areas that make use of spatial imaging or modeling, such as climatology, biology, and astronomy but can also be used to represent any arbitrary data that varies over multiple dimensions.\n",
    "\n",
    "xarray is a convenient way of working with and representing labelled n-dimensional arrays, i.e. it is like pandas for labelled n-D arrays:\n",
    "\n",
    "<br>\n",
    "<img src=\"../images/xarray.png\" width=300px style='float: left'>"
   ]
  },
  {
   "cell_type": "code",
   "execution_count": null,
   "metadata": {},
   "outputs": [],
   "source": [
    "import xarray as xr\n",
    "mri_xr = xr.open_dataset('../data/mri.nc')\n",
    "mri_xr"
   ]
  },
  {
   "cell_type": "markdown",
   "metadata": {},
   "source": [
    "The data here represents volumetric data from an [MRI scan](https://graphics.stanford.edu/data/voldata/). Therefore we have three coordinate dimensions 'x', 'y' and 'z'. In this simple example these coordinates are integers but they are not required to be. Instead of volumetric data we could imagine the data could be the 2D spatial data that evolves over time as are often used in climatology and many other fields."
   ]
  },
  {
   "cell_type": "markdown",
   "metadata": {},
   "source": [
    "## Declaring the dataset\n",
    "\n",
    "In a gridded dataset the dimensions are not ambiguous we have **coordinates** (i.e. key dimensions) and **data variables** (i.e. value dimensions), HoloViews will automatically infer these:"
   ]
  },
  {
   "cell_type": "code",
   "execution_count": null,
   "metadata": {},
   "outputs": [],
   "source": [
    "mri = hv.Dataset(mri_xr)\n",
    "mri"
   ]
  },
  {
   "cell_type": "markdown",
   "metadata": {},
   "source": [
    "## Displaying the data"
   ]
  },
  {
   "cell_type": "markdown",
   "metadata": {},
   "source": [
    "Just as we saw in the previous tutorial we can group the data by one or more dimensions. Since we are dealing with volumetric data we can take slices along each axis. Here we will slice along the sagittal plane corresponding to the z-dimension:"
   ]
  },
  {
   "cell_type": "code",
   "execution_count": null,
   "metadata": {},
   "outputs": [],
   "source": [
    "mri.to(hv.Image, groupby='z', dynamic=True)"
   ]
  },
  {
   "cell_type": "markdown",
   "metadata": {},
   "source": [
    "#### Excercise 1: Display a different section of the data\n",
    "\n",
    "* Display frontal or transverse sections of the volumetric cube by using the ``.to`` method and declaring the ``kdims`` of the [``Image``](http://holoviews.org/reference/elements/bokeh/Image.html) sections:"
   ]
  },
  {
   "cell_type": "code",
   "execution_count": null,
   "metadata": {
    "collapsed": true
   },
   "outputs": [],
   "source": []
  },
  {
   "cell_type": "markdown",
   "metadata": {},
   "source": [
    "## Slice and dice across n-dimensions"
   ]
  },
  {
   "cell_type": "markdown",
   "metadata": {},
   "source": [
    "We can use this to slice and dice the cube along all three axes:"
   ]
  },
  {
   "cell_type": "code",
   "execution_count": null,
   "metadata": {},
   "outputs": [],
   "source": [
    "%%opts Image {+axiswise} [xaxis=None yaxis=None width=225 height=225]\n",
    "(mri.to(hv.Image, ['z', 'y'], dynamic=True) +\n",
    " mri.to(hv.Image, ['z', 'x'], dynamic=True) +\n",
    " mri.to(hv.Image, ['x', 'y'], dynamic=True)).redim.range(MR=(0, 255))"
   ]
  },
  {
   "cell_type": "markdown",
   "metadata": {},
   "source": [
    "## Aggregation"
   ]
  },
  {
   "cell_type": "markdown",
   "metadata": {},
   "source": [
    "We can also easily compute aggregates across one or more dimensions. Previously we used the ``aggregate`` method for this purpose, but when working with gridded datasets it often makes more sense to think of aggregation as a ``reduce`` operation. We can for example reduce the ``z`` dimension using ``np.mean`` and display the resulting averaged 2D array as an [``Image``](http://holoviews.org/reference/elements/bokeh/Image.html):"
   ]
  },
  {
   "cell_type": "code",
   "execution_count": null,
   "metadata": {},
   "outputs": [],
   "source": [
    "hv.Image(mri.reduce(z=np.mean))"
   ]
  },
  {
   "cell_type": "markdown",
   "metadata": {},
   "source": [
    "#### Exercise 2: Apply the same operation using the aggregate method\n",
    "\n",
    "* Use the ``aggregate`` method on the ``mri`` dataset to generate the same plot as above"
   ]
  },
  {
   "cell_type": "code",
   "execution_count": null,
   "metadata": {
    "collapsed": true
   },
   "outputs": [],
   "source": []
  }
 ],
 "metadata": {
  "kernelspec": {
   "display_name": "Python 3",
   "language": "python",
   "name": "python3"
  },
  "language_info": {
   "codemirror_mode": {
    "name": "ipython",
    "version": 3
   },
   "file_extension": ".py",
   "mimetype": "text/x-python",
   "name": "python",
   "nbconvert_exporter": "python",
   "pygments_lexer": "ipython3",
   "version": "3.6.1"
  }
 },
 "nbformat": 4,
 "nbformat_minor": 2
}
