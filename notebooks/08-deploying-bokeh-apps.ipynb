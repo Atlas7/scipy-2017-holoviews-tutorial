{
 "cells": [
  {
   "cell_type": "markdown",
   "metadata": {},
   "source": [
    "<a href='bokeh.pydata.org'><img src=\"assets/bokeh_logo.svg\" alt=\"Bokeh logo\" width=\"4%;\" align=\"right\"/></a>"
   ]
  },
  {
   "cell_type": "markdown",
   "metadata": {},
   "source": [
    "<a href='http://www.holoviews.org'><img src=\"assets/header_logo.png\" alt=\"HoloViews logo\" width=\"20%;\" align=\"left\"/></a>\n",
    "<div style=\"float:right;\"><h2>08. Deploying Bokeh Apps</h2></div>"
   ]
  },
  {
   "cell_type": "markdown",
   "metadata": {},
   "source": [
    "In the previous sections we discovered how to create static, interactive plots using a ``HoloMap`` and declare dynamic interactivity using ``DynamicMap`` and ``Streams`` within a Jupyter notebook. However, we often want to package our visualization or dashboard as a standalone app, which is where Bokeh Server comes in. \n",
    "\n",
    "Bokeh Server allows deploying interactive visualizations and dashboards outside the notebook within your organization or even more widely on the web. In this section we will learn how to deploy a HoloViews-based Bokeh app and how to extend a HoloViews visualization with custom Bokeh models."
   ]
  },
  {
   "cell_type": "code",
   "execution_count": null,
   "metadata": {},
   "outputs": [],
   "source": [
    "import geoviews as gv\n",
    "import dask.dataframe as dd\n",
    "from holoviews.operation.datashader import datashade, aggregate, shade\n",
    "import holoviews as hv\n",
    "\n",
    "from holoviews.plotting.util import fire\n",
    "shade.cmap = fire\n",
    "\n",
    "hv.extension('bokeh')"
   ]
  },
  {
   "cell_type": "markdown",
   "metadata": {},
   "source": [
    "## Loading data"
   ]
  },
  {
   "cell_type": "markdown",
   "metadata": {},
   "source": [
    "As before we will load the taxi dataset as a Dask dataframe:"
   ]
  },
  {
   "cell_type": "code",
   "execution_count": null,
   "metadata": {
    "collapsed": true
   },
   "outputs": [],
   "source": [
    "usecols = ['tpep_pickup_datetime', 'dropoff_x', 'dropoff_y']\n",
    "ddf = dd.read_csv('../data/nyc_taxi.csv', parse_dates=['tpep_pickup_datetime'], usecols=usecols)\n",
    "ddf['hour'] = ddf.tpep_pickup_datetime.dt.hour\n",
    "ddf = ddf.persist()"
   ]
  },
  {
   "cell_type": "markdown",
   "metadata": {},
   "source": [
    "## Declare the visualization"
   ]
  },
  {
   "cell_type": "markdown",
   "metadata": {},
   "source": [
    "We will also once again declare a tile source and datashade the dropoff locations:"
   ]
  },
  {
   "cell_type": "code",
   "execution_count": null,
   "metadata": {
    "collapsed": true
   },
   "outputs": [],
   "source": [
    "from bokeh.models import WMTSTileSource\n",
    "url = 'https://server.arcgisonline.com/ArcGIS/rest/services/World_Imagery/MapServer/tile/{Z}/{Y}/{X}.jpg'\n",
    "wmts = gv.WMTS(WMTSTileSource(url=url))\n",
    "\n",
    "points = hv.Points(ddf, kdims=['dropoff_x', 'dropoff_y'])\n",
    "shaded = datashade(points).opts(plot=dict(width=800, height=500, xaxis=None, yaxis=None))"
   ]
  },
  {
   "cell_type": "markdown",
   "metadata": {},
   "source": [
    "## Deploy app in notebook"
   ]
  },
  {
   "cell_type": "markdown",
   "metadata": {},
   "source": [
    "When working within the Jupyter notebook we can easily start a server using the HoloViews ``BokehRenderer``. We get a handle on the renderer using the ``hv.renderer`` function. Now we can use the ``app`` method passing it our HoloViews object and setting ``show=True``. If your notebook server is not running on the default port (8888), you also need to define the ``websocket_origin``:"
   ]
  },
  {
   "cell_type": "code",
   "execution_count": null,
   "metadata": {},
   "outputs": [],
   "source": [
    "renderer = hv.renderer('bokeh')\n",
    "server = renderer.app(wmts * shaded, show=True, websocket_origin='localhost:8888')"
   ]
  },
  {
   "cell_type": "markdown",
   "metadata": {},
   "source": [
    "#### Excercise 1: Launch a bokeh app using bokeh serve\n",
    "\n",
    "1. Open http://localhost:8888/edit/notebooks/apps/server_app.py\n",
    "2. Open http://localhost:8888/terminals/1\n",
    "3. Now execute:\n",
    "\n",
    "```\n",
    "source activate hvtutorial\n",
    "bokeh serve --show apps/server_app.py\n",
    "```"
   ]
  },
  {
   "cell_type": "markdown",
   "metadata": {},
   "source": [
    "## Adding custom functionality"
   ]
  },
  {
   "cell_type": "markdown",
   "metadata": {},
   "source": [
    "Now let us add some custom functionality to the app we just created. We will declare a ``Stream`` that allows selecting the hour of the day and then declare a DynamicMap that applies the selection."
   ]
  },
  {
   "cell_type": "code",
   "execution_count": null,
   "metadata": {},
   "outputs": [],
   "source": [
    "from bokeh.models import WMTSTileSource\n",
    "url = 'https://server.arcgisonline.com/ArcGIS/rest/services/World_Imagery/MapServer/tile/{Z}/{Y}/{X}.jpg'\n",
    "wmts = gv.WMTS(WMTSTileSource(url=url))\n",
    "\n",
    "stream = hv.streams.Stream.define('HourSelect', hour=0)()\n",
    "points = hv.Points(ddf, kdims=['dropoff_x', 'dropoff_y'])\n",
    "dmap = hv.DynamicMap(lambda hour: points.select(hour=hour), streams=[stream])\n",
    "shaded = datashade(dmap)\n",
    "\n",
    "hv.opts('RGB [width=800 height=400 xaxis=None yaxis=None]')\n",
    "\n",
    "hvobj = wmts * shaded\n",
    "hvobj"
   ]
  },
  {
   "cell_type": "markdown",
   "metadata": {},
   "source": [
    "We can now manually trigger updates using the ``stream.event`` method:"
   ]
  },
  {
   "cell_type": "code",
   "execution_count": null,
   "metadata": {
    "collapsed": true
   },
   "outputs": [],
   "source": [
    "stream.event(hour=6)"
   ]
  },
  {
   "cell_type": "markdown",
   "metadata": {},
   "source": [
    "In a bokeh server app we can link this stream to another widget, which is exactly what we will do now:"
   ]
  },
  {
   "cell_type": "markdown",
   "metadata": {},
   "source": [
    "#### Exercise 2: Modify app\n",
    "\n",
    "1. Open http://localhost:8888/edit/notebooks/apps/player_app.py\n",
    "2. Copy the HoloViews example above into the appropriate place in the player_app script and note where the ``stream.event`` method is called\n",
    "2. Open http://localhost:8888/terminals/1\n",
    "3. Now shut down the server we created in exercise 1 \n",
    "4. Now execute:\n",
    "\n",
    "```\n",
    "bokeh serve --show apps/player_app.py\n",
    "```"
   ]
  },
  {
   "cell_type": "markdown",
   "metadata": {},
   "source": [
    "## Adding custom interactivity"
   ]
  },
  {
   "cell_type": "markdown",
   "metadata": {},
   "source": [
    "Finally we will add another plot to our app, which computes a cross-section at the current hover location:"
   ]
  },
  {
   "cell_type": "code",
   "execution_count": null,
   "metadata": {},
   "outputs": [],
   "source": [
    "from bokeh.models import WMTSTileSource\n",
    "url = 'https://server.arcgisonline.com/ArcGIS/rest/services/World_Imagery/MapServer/tile/{Z}/{Y}/{X}.jpg'\n",
    "wmts = gv.WMTS(WMTSTileSource(url=url))\n",
    "\n",
    "stream = hv.streams.Stream.define('HourSelect', hour=0)()\n",
    "points = hv.Points(ddf, kdims=['dropoff_x', 'dropoff_y'])\n",
    "dmap = hv.util.Dynamic(points, operation=lambda obj, hour: obj.select(hour=hour),\n",
    "                       streams=[stream], link_inputs=True)\n",
    "\n",
    "# Apply aggregation\n",
    "aggregated = aggregate(dmap, link_inputs=True)\n",
    "\n",
    "# Shade the data\n",
    "shaded = shade(aggregated, link_inputs=True)\n",
    "\n",
    "# Define PointerX stream, attach to points and declare DynamicMap for cross-section and VLine \n",
    "pointer = hv.streams.PointerX(x=ddf.dropoff_x.loc[0].compute().iloc[0], source=points)\n",
    "section = hv.util.Dynamic(aggregated, operation=lambda obj, x: obj.sample(dropoff_x=x),\n",
    "                          streams=[pointer], link_inputs=False)\n",
    "vline = hv.DynamicMap(lambda x: hv.VLine(x), streams=[pointer])\n",
    "\n",
    "# Define options\n",
    "hv.opts(\"RGB [width=800 height=400 xaxis=None yaxis=None] VLine (color='black' line_width=1)\")\n",
    "hv.opts(\"Curve [width=100 yaxis=None] {+framewise} Layout [shared_axes=False]\")\n",
    "\n",
    "hvobj = (wmts * shaded * vline) << section\n",
    "hvobj"
   ]
  },
  {
   "cell_type": "markdown",
   "metadata": {},
   "source": [
    "#### Exercise 3: Add linked stream to app\n",
    "\n",
    "1. Open http://localhost:8888/edit/notebooks/apps/player_app.py again\n",
    "2. Edit the app to add the functionality described above\n",
    "2. Open http://localhost:8888/terminals/1\n",
    "3. Now shut down the server we created in exercise 2\n",
    "4. Now execute:\n",
    "\n",
    "```\n",
    "bokeh serve --show apps/player_app.py\n",
    "```\n",
    "\n",
    "\n",
    "# Onwards\n",
    "\n",
    "Although the code above is more complex than in previous sections, it's actually providing a huge range of custom types of interactivity, which if implemented in Bokeh alone would have required far more than a notebook cell of code.  Hopefully it is clear that arbitrarily complex collections of visualizations and interactive controls can be built from the components provided by HoloViews, allowing you to make simple analyses very easily and making it practical to make even quite complex apps when needed.  The [user guide](http://holoviews.org/user_guide), [gallery](http://holoviews.org/gallery/index.html), and [reference gallery](http://holoviews.org/reference) should have all the information you need to get started with all this power on your own datasets and tasks.  Good luck!"
   ]
  }
 ],
 "metadata": {
  "kernelspec": {
   "display_name": "Python 3",
   "language": "python",
   "name": "python3"
  },
  "language_info": {
   "codemirror_mode": {
    "name": "ipython",
    "version": 3
   },
   "file_extension": ".py",
   "mimetype": "text/x-python",
   "name": "python",
   "nbconvert_exporter": "python",
   "pygments_lexer": "ipython3",
   "version": "3.6.1"
  }
 },
 "nbformat": 4,
 "nbformat_minor": 2
}
