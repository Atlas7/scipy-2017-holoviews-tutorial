{
 "cells": [
  {
   "cell_type": "markdown",
   "metadata": {},
   "source": [
    "<a href='http://www.holoviews.org'><img src=\"assets/hv+bk.png\" alt=\"HV+BK logos\" width=\"40%;\" align=\"left\"/></a>\n",
    "<div style=\"float:right;\"><h2>08. Deploying Bokeh Apps</h2></div>"
   ]
  },
  {
   "cell_type": "markdown",
   "metadata": {},
   "source": [
    "In the previous sections we discovered how to create static, interactive plots using a ``HoloMap`` and declare dynamic interactivity using ``DynamicMap`` and ``Streams`` inside a Jupyter notebook. However, frequently we want to package our visualization or dashboard for wider distribution outside the notebook. Bokeh server provides a flexible and scalable architecture to deploy complex interactive visualizations and dashboards and integrates seemlessly with HoloViews.\n",
    "\n",
    "For a detailed background on bokeh server see [the bokeh user guide](http://bokeh.pydata.org/en/latest/docs/user_guide/server.html). In this tutorial we will discover how to deploy the visualizations we have created so far as a standalone bokeh server app and how flexibly combine HoloViews and Bokeh APIs to build highly customized apps. We will also reuse a lot of what we have learned so far, loading large, tabular datasets, applying datashader operations to them and adding linked streams to our app."
   ]
  },
  {
   "cell_type": "markdown",
   "metadata": {},
   "source": [
    "## A simple bokeh app"
   ]
  },
  {
   "cell_type": "markdown",
   "metadata": {},
   "source": [
    "```python\n",
    "import dask.dataframe as dd\n",
    "from holoviews.operation.datashader import datashade\n",
    "import holoviews as hv\n",
    "\n",
    "renderer = hv.renderer('bokeh')\n",
    "\n",
    "# Load data\n",
    "ddf = dd.read_csv('../data/nyc_taxi.csv', usecols=['dropoff_x', 'dropoff_y']).persist()\n",
    "\n",
    "# Declare points and datashade them\n",
    "shaded = datashade(hv.Points(ddf))\n",
    "\n",
    "# Set some plot options\n",
    "app = shaded.opts(plot=dict(width=800, height=400))\n",
    "\n",
    "# Create a bokeh document\n",
    "doc = renderer.server_doc(app)\n",
    "doc.title = 'HoloViews Bokeh App'\n",
    "```"
   ]
  },
  {
   "cell_type": "markdown",
   "metadata": {},
   "source": [
    "You will be familiar with most of the components of this app by now. We load the dropoff locations from the Taxi dataset using dask, we declare some Points, datashade them and we set some plot options. Only the top and bottom should be unfamiliar. Instead of loading the bokeh extension we get a handle on a bokeh renderer using the ``hv.renderer`` function and as a last step we obtain a bokeh document by passing the HoloViews object to the ``renderer.server_doc`` method. That's all that's required to turn a HoloViews object into a functional bokeh app!"
   ]
  },
  {
   "cell_type": "markdown",
   "metadata": {},
   "source": [
    "To run this app open [a terminal](../terminals/1) and execute:\n",
    "\n",
    "```\n",
    "source activate hvtutorial\n",
    "bokeh serve --show apps/server_app.py\n",
    "```\n",
    "\n",
    "Now [open the app script file](../edit/apps/server_app.py) in the inbuilt text editor."
   ]
  },
  {
   "cell_type": "code",
   "execution_count": null,
   "metadata": {
    "collapsed": true
   },
   "outputs": [],
   "source": [
    "# Exercise: Modify the app to display the pickup locations and add a tilesource, then run the app with bokeh serve\n",
    "# Tip: Refer to the previous notebook"
   ]
  },
  {
   "cell_type": "markdown",
   "metadata": {},
   "source": [
    "## Building a bokeh app in the notebook"
   ]
  },
  {
   "cell_type": "markdown",
   "metadata": {},
   "source": [
    "In a usual workflow you often want to quickly iterate over a visualization in the notebook and only deploy it when we are happy with it. We will quickly go through such a workflow. So as before we will set up our imports, load the extension and the taxi dataset:"
   ]
  },
  {
   "cell_type": "code",
   "execution_count": null,
   "metadata": {},
   "outputs": [],
   "source": [
    "import holoviews as hv\n",
    "import geoviews as gv\n",
    "import dask.dataframe as dd\n",
    "\n",
    "from holoviews.operation.datashader import datashade, aggregate, shade\n",
    "from bokeh.models import WMTSTileSource\n",
    "\n",
    "hv.extension('bokeh', logo=False)\n",
    "\n",
    "usecols = ['tpep_pickup_datetime', 'dropoff_x', 'dropoff_y']\n",
    "ddf = dd.read_csv('../data/nyc_taxi.csv', parse_dates=['tpep_pickup_datetime'], usecols=usecols)\n",
    "ddf['hour'] = ddf.tpep_pickup_datetime.dt.hour\n",
    "ddf = ddf.persist()"
   ]
  },
  {
   "cell_type": "markdown",
   "metadata": {},
   "source": [
    "Next we define a ``Counter`` stream which we will use to select taxi trips by hour."
   ]
  },
  {
   "cell_type": "code",
   "execution_count": null,
   "metadata": {
    "collapsed": true
   },
   "outputs": [],
   "source": [
    "stream = hv.streams.Counter()\n",
    "points = hv.Points(ddf, kdims=['dropoff_x', 'dropoff_y'])\n",
    "dmap = hv.DynamicMap(lambda counter: points.select(hour=counter%24).relabel('Hour: %s' % (counter % 24)),\n",
    "                     streams=[stream])\n",
    "shaded = datashade(dmap)\n",
    "\n",
    "hv.opts('RGB [width=800, height=600, xaxis=None, yaxis=None]')\n",
    "\n",
    "url = 'https://server.arcgisonline.com/ArcGIS/rest/services/World_Imagery/MapServer/tile/{Z}/{Y}/{X}.jpg'\n",
    "wmts = gv.WMTS(WMTSTileSource(url=url))\n",
    "\n",
    "overlay = wmts * shaded"
   ]
  },
  {
   "cell_type": "markdown",
   "metadata": {},
   "source": [
    "As before we now have a fully functional bokeh app and to see what that looks like we can even display it inline using the ``renderer.app`` method using the ``show`` argument. If your Jupyter notebook server is not running on port 8888 you will also have to edit the ``websocket_origin`` to match:"
   ]
  },
  {
   "cell_type": "code",
   "execution_count": null,
   "metadata": {
    "scrolled": false
   },
   "outputs": [],
   "source": [
    "renderer = hv.renderer('bokeh')\n",
    "server = renderer.app(overlay, show=True, websocket_origin='localhost:8888')"
   ]
  },
  {
   "cell_type": "markdown",
   "metadata": {},
   "source": [
    "Bokeh server also allows us to schedule periodic events and the ``periodic`` method on a DynamicMap declaring a ``Counter`` stream is the easiest way to do that."
   ]
  },
  {
   "cell_type": "code",
   "execution_count": null,
   "metadata": {},
   "outputs": [],
   "source": [
    "dmap.periodic(1)"
   ]
  },
  {
   "cell_type": "markdown",
   "metadata": {
    "collapsed": true
   },
   "source": [
    "You can stop the server process by clearing the cell displaying the app.\n",
    "\n",
    "Now let's open the [text editor](../edit/apps/periodic_app.py) again."
   ]
  },
  {
   "cell_type": "code",
   "execution_count": null,
   "metadata": {
    "collapsed": true,
    "scrolled": true
   },
   "outputs": [],
   "source": [
    "# Exercise: Copy the example above into periodic_app.py and modify it so it can be run with bokeh serve\n",
    "# Hint: Use hv.renderer and renderer.server_doc\n",
    "# Note that you have to run periodic **after** creating the bokeh document"
   ]
  },
  {
   "cell_type": "markdown",
   "metadata": {},
   "source": [
    "## Combining HoloViews with bokeh models"
   ]
  },
  {
   "cell_type": "markdown",
   "metadata": {},
   "source": [
    "Now for a last hurrah let's put everything we have learned to good use and create a bokeh app with it. This time we will go straight to a [Python script containing the app](../edit/apps/player_app.py). If you run the app with ``bokeh serve --show ./apps/player_app.py`` from [your terminal](../terminals/1) you should see something like this:\n",
    "\n",
    "<img src=\"./assets/tutorial_app.gif\"></img>"
   ]
  },
  {
   "cell_type": "markdown",
   "metadata": {},
   "source": [
    "The app consists of several components:\n",
    "\n",
    "1. A datashaded plot of points letting us select the Points for each hour of the day\n",
    "2. A linked ``PointerX`` stream which is used to compute a cross-section\n",
    "3. A set of custom bokeh widgets linked to the hour of day stream\n",
    "\n",
    "We have already covered 1. and 2. so we will focus on 3. and find out how easily we can combine a HoloViews plot with custom bokeh models. We will not look at the precise widgets in too much detail, instead let's have a quick look at the callback define for slider widget updates:\n",
    "\n",
    "```python\n",
    "def slider_update(attrname, old, new):\n",
    "    stream.event(hour=new)\n",
    "```\n",
    "\n",
    "Whenever the slider value changes this will trigger a stream event updating our plots. The second part is how we combine HoloViews objects and bokeh models into a single layout we can display. Once again we can use the renderer to convert the HoloViews object into something we can display with bokeh:\n",
    "\n",
    "```python\n",
    "renderer = hv.renderer('bokeh')\n",
    "plot = renderer.get_plot(hvobj, doc=curdoc())\n",
    "```\n",
    "\n",
    "The ``plot`` instance here has a ``state`` attribute that represents the actual bokeh model, which means we can combine it into a bokeh layout just like any other bokeh model:\n",
    "\n",
    "```python\n",
    "layout = layout([\n",
    "    [plot.state],\n",
    "    [slider, button],\n",
    "], sizing_mode='fixed')\n",
    "\n",
    "curdoc().add_root(layout)\n",
    "```"
   ]
  },
  {
   "cell_type": "code",
   "execution_count": null,
   "metadata": {
    "collapsed": true
   },
   "outputs": [],
   "source": [
    "# Advanced Exercise: Add a histogram to the bokeh layout next to the datashaded plot\n",
    "# Hint: Declare the histogram like this: hv.operation.histogram(aggregated, bin_range=(0, 20))\n",
    "#       then use renderer.get_plot and hist_plot.state and add it to the layout"
   ]
  },
  {
   "cell_type": "markdown",
   "metadata": {},
   "source": [
    "# Onwards\n",
    "\n",
    "Although the code above is more complex than in previous sections, it's actually providing a huge range of custom types of interactivity, which if implemented in Bokeh alone would have required far more than a notebook cell of code.  Hopefully it is clear that arbitrarily complex collections of visualizations and interactive controls can be built from the components provided by HoloViews, allowing you to make simple analyses very easily and making it practical to make even quite complex apps when needed.  The [user guide](http://holoviews.org/user_guide), [gallery](http://holoviews.org/gallery/index.html), and [reference gallery](http://holoviews.org/reference) should have all the information you need to get started with all this power on your own datasets and tasks.  Good luck!"
   ]
  }
 ],
 "metadata": {
  "kernelspec": {
   "display_name": "Python 3",
   "language": "python",
   "name": "python3"
  },
  "language_info": {
   "codemirror_mode": {
    "name": "ipython",
    "version": 3
   },
   "file_extension": ".py",
   "mimetype": "text/x-python",
   "name": "python",
   "nbconvert_exporter": "python",
   "pygments_lexer": "ipython3",
   "version": "3.6.1"
  }
 },
 "nbformat": 4,
 "nbformat_minor": 2
}
