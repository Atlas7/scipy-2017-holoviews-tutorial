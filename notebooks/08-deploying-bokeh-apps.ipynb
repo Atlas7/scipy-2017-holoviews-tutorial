{
 "cells": [
  {
   "cell_type": "markdown",
   "metadata": {},
   "source": [
    "<a href='http://www.holoviews.org'><img src=\"assets/header_logo.png\" alt=\"HoloViews logo\" width=\"20%;\" align=\"left\"/></a>\n",
    "<div style=\"float:right;\"><h2>08. Deploying Bokeh Apps</h2></div>"
   ]
  },
  {
   "cell_type": "code",
   "execution_count": null,
   "metadata": {},
   "outputs": [],
   "source": [
    "import geoviews as gv\n",
    "import dask.dataframe as dd\n",
    "from holoviews.operation.datashader import datashade\n",
    "import holoviews as hv\n",
    "\n",
    "hv.extension('bokeh')"
   ]
  },
  {
   "cell_type": "markdown",
   "metadata": {},
   "source": [
    "## Loading data"
   ]
  },
  {
   "cell_type": "markdown",
   "metadata": {},
   "source": [
    "As before we will load the taxi dataset as a dask dataframe:"
   ]
  },
  {
   "cell_type": "code",
   "execution_count": null,
   "metadata": {
    "collapsed": true
   },
   "outputs": [],
   "source": [
    "usecols = ['tpep_pickup_datetime', 'dropoff_x', 'dropoff_y']\n",
    "ddf = dd.read_csv('../data/nyc_taxi.csv', parse_dates=['tpep_pickup_datetime'], usecols=usecols)\n",
    "ddf['hour'] = ddf.tpep_pickup_datetime.dt.hour\n",
    "ddf = ddf.persist()"
   ]
  },
  {
   "cell_type": "markdown",
   "metadata": {},
   "source": [
    "## Declare the visualization"
   ]
  },
  {
   "cell_type": "markdown",
   "metadata": {},
   "source": [
    "We will also once again declare a tile source and datashade the dropoff locations:"
   ]
  },
  {
   "cell_type": "code",
   "execution_count": null,
   "metadata": {
    "collapsed": true
   },
   "outputs": [],
   "source": [
    "from bokeh.models import WMTSTileSource\n",
    "url = 'https://server.arcgisonline.com/ArcGIS/rest/services/World_Imagery/MapServer/tile/{Z}/{Y}/{X}.jpg'\n",
    "wmts = gv.WMTS(WMTSTileSource(url=url))\n",
    "\n",
    "points = hv.Points(ddf, kdims=['dropoff_x', 'dropoff_y'])\n",
    "shaded = datashade(points).opts(plot=dict(width=800, height=400, xaxis=None, yaxis=None))"
   ]
  },
  {
   "cell_type": "markdown",
   "metadata": {},
   "source": [
    "## Deploy app in notebook"
   ]
  },
  {
   "cell_type": "markdown",
   "metadata": {},
   "source": [
    "When working within the Jupyter notebook we can easily start a server using the HoloViews ``BokehRenderer``. We get a handle on the renderer using the ``hv.renderer`` function. Now we can use the ``app`` method passing it our HoloViews object and setting ``show=True``. If your notebook server is not running on the default port (8888), you also need to define the ``websocket_origin``:"
   ]
  },
  {
   "cell_type": "code",
   "execution_count": null,
   "metadata": {},
   "outputs": [],
   "source": [
    "renderer = hv.renderer('bokeh')\n",
    "server = renderer.app(wmts * shaded, show=True, websocket_origin='localhost:8890')"
   ]
  },
  {
   "cell_type": "markdown",
   "metadata": {},
   "source": [
    "#### Excercise 1: Launch a bokeh app using bokeh serve\n",
    "\n",
    "1. Open http://localhost:8888/edit/notebooks/server_app.py\n",
    "2. Open http://localhost:8888/terminals/1\n",
    "3. Now execute:\n",
    "\n",
    "```\n",
    "source activate hvtutorial\n",
    "cd apps\n",
    "bokeh serve --show server_app.py\n",
    "```"
   ]
  },
  {
   "cell_type": "markdown",
   "metadata": {},
   "source": [
    "## Adding functionality"
   ]
  },
  {
   "cell_type": "markdown",
   "metadata": {},
   "source": [
    "Now let us add some custom functionality to the app we just created. We will declare a ``Stream`` that allows selecting the hour of the day and then declare a DynamicMap that applies the selection."
   ]
  },
  {
   "cell_type": "code",
   "execution_count": null,
   "metadata": {},
   "outputs": [],
   "source": [
    "from bokeh.models import WMTSTileSource\n",
    "url = 'https://server.arcgisonline.com/ArcGIS/rest/services/World_Imagery/MapServer/tile/{Z}/{Y}/{X}.jpg'\n",
    "wmts = gv.WMTS(WMTSTileSource(url=url))\n",
    "\n",
    "stream = hv.streams.Stream.define('HourSelect', hour=0)()\n",
    "dmap = hv.DynamicMap(lambda hour: points.select(hour=hour), streams=[stream])\n",
    "shaded = datashade(dmap)\n",
    "\n",
    "hv.opts('RGB [width=800 height=400 xaxis=None yaxis=None]')\n",
    "\n",
    "hvobj = wmts * shaded\n",
    "hvobj"
   ]
  },
  {
   "cell_type": "markdown",
   "metadata": {},
   "source": [
    "We can now manually trigger updates using the ``stream.event`` method:"
   ]
  },
  {
   "cell_type": "code",
   "execution_count": null,
   "metadata": {},
   "outputs": [],
   "source": [
    "stream.event(hour=6)"
   ]
  },
  {
   "cell_type": "markdown",
   "metadata": {},
   "source": [
    "In a bokeh server app we can link this stream to another widget, which is exactly what we will do now:"
   ]
  },
  {
   "cell_type": "markdown",
   "metadata": {},
   "source": [
    "#### Exercise 2: Modify app\n",
    "\n",
    "1. Open http://localhost:8888/edit/notebooks/player_app.py\n",
    "2. Copy the HoloViews example above into the appropriate place in the player_app script and note where the ``stream.event`` method is called\n",
    "2. Open http://localhost:8888/terminals/1\n",
    "3. Now shut down the server we created in exercise 1 \n",
    "4. Now execute:\n",
    "\n",
    "```\n",
    "bokeh serve --show player_app.py\n",
    "```"
   ]
  }
 ],
 "metadata": {
  "kernelspec": {
   "display_name": "Python 3",
   "language": "python",
   "name": "python3"
  },
  "language_info": {
   "codemirror_mode": {
    "name": "ipython",
    "version": 3
   },
   "file_extension": ".py",
   "mimetype": "text/x-python",
   "name": "python",
   "nbconvert_exporter": "python",
   "pygments_lexer": "ipython3",
   "version": "3.6.1"
  }
 },
 "nbformat": 4,
 "nbformat_minor": 2
}
