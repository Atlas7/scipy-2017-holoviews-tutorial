{
 "cells": [
  {
   "cell_type": "markdown",
   "metadata": {},
   "source": [
    "<a href='bokeh.pydata.org'><img src=\"assets/bokeh_logo.svg\" alt=\"Bokeh logo\" width=\"4%;\" align=\"right\"/></a>"
   ]
  },
  {
   "cell_type": "markdown",
   "metadata": {},
   "source": [
    "<a href='http://www.holoviews.org'><img src=\"assets/header_logo.png\" alt=\"HoloViews logo\" width=\"20%;\" align=\"left\"/></a>\n",
    "<div style=\"float:right;\"><h2>03. Exploration with Containers</h2></div>"
   ]
  },
  {
   "cell_type": "code",
   "execution_count": null,
   "metadata": {},
   "outputs": [],
   "source": [
    "import numpy as np\n",
    "import holoviews as hv\n",
    "hv.extension('bokeh')\n",
    "%opts Curve Area [width=600]"
   ]
  },
  {
   "cell_type": "markdown",
   "metadata": {},
   "source": [
    "# Declaring elements in a function"
   ]
  },
  {
   "cell_type": "markdown",
   "metadata": {},
   "source": [
    "Functions allow declaring Elements varying by one or more parameters, which we can explore:\n",
    "\n",
    "* The function could be loading data from disk\n",
    "* Querying data from an API\n",
    "* Generating data from a simulation or mathematical function"
   ]
  },
  {
   "cell_type": "markdown",
   "metadata": {},
   "source": [
    "For simplicities sake we will declare a simple function generating frequency modulated signal and returns [``Curve``](http://holoviews.org/reference/elements/bokeh/Curve.html) Element:"
   ]
  },
  {
   "cell_type": "code",
   "execution_count": null,
   "metadata": {
    "collapsed": true
   },
   "outputs": [],
   "source": [
    "def fm_modulation(f_carrier=110, f_mod=110, mod_index=1, length=0.1, sampleRate=3000):\n",
    "    x = np.arange(0, length, 1.0/sampleRate)\n",
    "    y = np.sin(2*np.pi*f_carrier*x + mod_index*np.sin(2*np.pi*f_mod*x))\n",
    "    return hv.Curve((x, y), kdims=['Time'], vdims=['Amplitude'])"
   ]
  },
  {
   "cell_type": "markdown",
   "metadata": {},
   "source": [
    "The function defines a number of parameters which vary the signal, but let's have a look at what it looks like by default:"
   ]
  },
  {
   "cell_type": "code",
   "execution_count": null,
   "metadata": {},
   "outputs": [],
   "source": [
    "fm_modulation()"
   ]
  },
  {
   "cell_type": "markdown",
   "metadata": {},
   "source": [
    "## HoloMaps\n",
    "\n",
    "HoloMaps allow exploring a parameter space with discrete values and are as easy to create as a dictionary comprehension. When declaring a [``HoloMap``](http://holoviews.org/reference/containers/bokeh/HoloMap.html) ensure the length of the key matches the key dimensions:"
   ]
  },
  {
   "cell_type": "code",
   "execution_count": null,
   "metadata": {},
   "outputs": [],
   "source": [
    "carrier_frequencies = [10, 20, 110, 220, 330]\n",
    "modulation_frequencies = [110, 220, 330]\n",
    "\n",
    "hmap = hv.HoloMap({(fc, fm): fm_modulation(fc, fm) for fc in carrier_frequencies\n",
    "                   for fm in modulation_frequencies}, kdims=['fc', 'fm'])\n",
    "hmap"
   ]
  },
  {
   "cell_type": "markdown",
   "metadata": {},
   "source": [
    "#### Exercise 1: Change the Element type\n",
    "\n",
    "* Use the function declared below as a template\n",
    "* Now change the Element type return by the function to an [``Area``](http://holoviews.org/reference/elements/bokeh/Area.html) or [``Scatter``](http://holoviews.org/reference/elements/bokeh/Area.html)\n",
    "* Declare lists of ``f_carrier`` and ``mod_index`` values (Don't use too many values here)\n",
    "* Declare a ``HoloMap`` by iterating over ``f_carrier`` and ``mod_index`` in a dictionary comprehension:"
   ]
  },
  {
   "cell_type": "code",
   "execution_count": null,
   "metadata": {
    "collapsed": true
   },
   "outputs": [],
   "source": [
    "def fm_modulation2(f_carrier=220, f_mod=110, mod_index=1, length=0.1, sampleRate=3000):\n",
    "    x = np.arange(0,length, 1.0/sampleRate)\n",
    "    y = np.sin(2*np.pi*f_carrier*x + mod_index*np.sin(2*np.pi*f_mod*x))"
   ]
  },
  {
   "cell_type": "markdown",
   "metadata": {},
   "source": [
    "#### Summary"
   ]
  },
  {
   "cell_type": "markdown",
   "metadata": {},
   "source": [
    "* HoloMaps allow declaring a parameter space\n",
    "* The default widgets provide a slider for numeric and dropdown menu for non-numeric types.\n",
    "* HoloMap exports to static HTML files, gifs and videos"
   ]
  },
  {
   "cell_type": "markdown",
   "metadata": {},
   "source": [
    "## DynamicMap"
   ]
  },
  {
   "cell_type": "markdown",
   "metadata": {},
   "source": [
    "A [``DynamicMap``]((holoviews.org/reference/containers/bokeh/DynamicMap.html) is very similar to a ``HoloMap`` except that it evaluates the function lazily. This allows exploring much larger parameter spaces (but requires a live server). The key dimensions ``kdims`` must now match the also match the arguments of the function:"
   ]
  },
  {
   "cell_type": "code",
   "execution_count": null,
   "metadata": {},
   "outputs": [],
   "source": [
    "dmap = hv.DynamicMap(fm_modulation, kdims=['f_carrier', 'f_mod', 'mod_index'])\n",
    "dmap = dmap.redim.range(f_carrier=((10, 110)), f_mod=(10, 110), mod_index=(0.1, 2))\n",
    "dmap"
   ]
  },
  {
   "cell_type": "markdown",
   "metadata": {},
   "source": [
    "#### Excercise 2: Declare a DynamicMap\n",
    "\n",
    "* Reuse your function from Excercise 1\n",
    "* Declare a DynamicMap with key dimensions, and set ranges using the ``.redim.range`` method.\n",
    "* (Optional): Use the ``.redim.step`` method and a floating point range to modify the slider step."
   ]
  },
  {
   "cell_type": "code",
   "execution_count": null,
   "metadata": {
    "collapsed": true
   },
   "outputs": [],
   "source": []
  },
  {
   "cell_type": "markdown",
   "metadata": {},
   "source": [
    "## Faceting parameter spaces"
   ]
  },
  {
   "cell_type": "markdown",
   "metadata": {},
   "source": [
    "### Casting"
   ]
  },
  {
   "cell_type": "markdown",
   "metadata": {},
   "source": [
    "Instead of widgets we can facet our data in different ways to compare it more directly. Other containers, similar to a ``HoloMap``, such as a [``GridSpace``](http://holoviews.org/reference/elements/bokeh/GridSpace.html), [``NdLayout``](http://holoviews.org/reference/elements/bokeh/NdLayout.html) and [``NdOverlay``](http://holoviews.org/reference/elements/bokeh/NdOverlay.html) let us do that:"
   ]
  },
  {
   "cell_type": "code",
   "execution_count": null,
   "metadata": {},
   "outputs": [],
   "source": [
    "%%opts Curve [width=150]\n",
    "hv.GridSpace(hmap).opts()"
   ]
  },
  {
   "cell_type": "markdown",
   "metadata": {},
   "source": [
    "#### Exercise 3: Casting your HoloMap\n",
    "\n",
    "* Try casting your HoloMap from excercise 1 to an [``NdLayout``](http://holoviews.org/reference/elements/bokeh/NdLayout.html) or [``NdOverlay``](http://holoviews.org/reference/elements/bokeh/NdOverlay.html)"
   ]
  },
  {
   "cell_type": "code",
   "execution_count": null,
   "metadata": {
    "collapsed": true
   },
   "outputs": [],
   "source": []
  },
  {
   "cell_type": "markdown",
   "metadata": {},
   "source": [
    "### Faceting with methods"
   ]
  },
  {
   "cell_type": "markdown",
   "metadata": {},
   "source": [
    "Using the ``.overlay``, ``.grid`` and ``.layout`` methods we can facet multi-dimensional data by a specific dimension:"
   ]
  },
  {
   "cell_type": "code",
   "execution_count": null,
   "metadata": {},
   "outputs": [],
   "source": [
    "hmap.overlay('fm')"
   ]
  },
  {
   "cell_type": "markdown",
   "metadata": {},
   "source": [
    "These methods, unlike casting, will also work with a ``DynamicMap`` but only if we have defined specific dimension ``values``, which we can do with the ``.redim.values`` method:"
   ]
  },
  {
   "cell_type": "code",
   "execution_count": null,
   "metadata": {},
   "outputs": [],
   "source": [
    "%%opts Curve [width=150]\n",
    "dmap.redim.values(f_mod=[10, 20, 30], f_carrier=[10, 20, 30]).overlay('f_mod').grid('f_carrier')"
   ]
  },
  {
   "cell_type": "markdown",
   "metadata": {},
   "source": [
    "#### Exercise 4: Facet a DynamicMap\n",
    "\n",
    "* Copy your DynamicMap from exercise 2\n",
    "* Use the redim.values method to declare a list of discrete values for ``f_mod`` and ``f_carrier`` dimensions\n",
    "* Use the ``.overlay`` and ``.layout`` method to facet the space"
   ]
  },
  {
   "cell_type": "code",
   "execution_count": null,
   "metadata": {
    "collapsed": true
   },
   "outputs": [],
   "source": []
  },
  {
   "cell_type": "markdown",
   "metadata": {},
   "source": [
    "## Optional\n",
    "\n",
    "### Slicing and indexing"
   ]
  },
  {
   "cell_type": "markdown",
   "metadata": {},
   "source": [
    "HoloMaps and other containers also allow you to easily index or select a specific key, allowing you:\n",
    "\n",
    "* select a specific key: ``obj[10, 110]``\n",
    "* select a slice ``obj[10, 200:]``\n",
    "* select multiple values ``obj[[10, 110], 110]``"
   ]
  },
  {
   "cell_type": "code",
   "execution_count": null,
   "metadata": {},
   "outputs": [],
   "source": [
    "%%opts Curve [width=300]\n",
    "hmap[10, 110] + hmap[10, 200:].overlay() + hmap[[10, 110], 110].overlay()"
   ]
  },
  {
   "cell_type": "markdown",
   "metadata": {},
   "source": [
    "You can do the same using the select method:"
   ]
  },
  {
   "cell_type": "code",
   "execution_count": null,
   "metadata": {},
   "outputs": [],
   "source": [
    "(hmap.select(fc=10, fm=110) +\n",
    " hmap.select(fc=10, fm=(200, None)).overlay() +\n",
    " hmap.select(fc=[10, 110], fm=110).overlay())"
   ]
  },
  {
   "cell_type": "markdown",
   "metadata": {},
   "source": [
    "## Read more\n",
    "\n",
    "* Learn more about using HoloMaps and other containers in the [Dimensioned Containers](http://holoviews.org/user_guide/Dimensioned_Containers.html) user guide\n",
    "* Learn more about working with DynamicMap in the [Live Data](http://holoviews.org/user_guide/Live_Data.html) user guide."
   ]
  }
 ],
 "metadata": {
  "kernelspec": {
   "display_name": "Python 3",
   "language": "python",
   "name": "python3"
  },
  "language_info": {
   "codemirror_mode": {
    "name": "ipython",
    "version": 3
   },
   "file_extension": ".py",
   "mimetype": "text/x-python",
   "name": "python",
   "nbconvert_exporter": "python",
   "pygments_lexer": "ipython3",
   "version": "3.6.1"
  }
 },
 "nbformat": 4,
 "nbformat_minor": 2
}
